{
 "cells": [
  {
   "cell_type": "code",
   "execution_count": 1,
   "metadata": {},
   "outputs": [],
   "source": [
    "import numpy as np\n",
    "import pandas as pd\n",
    "import matplotlib.pyplot as plt\n",
    "%matplotlib inline\n",
    "import nltk, re, pprint\n",
    "from nltk import word_tokenize\n",
    "import os"
   ]
  },
  {
   "cell_type": "code",
   "execution_count": 2,
   "metadata": {},
   "outputs": [],
   "source": [
    "Roo2=\"C:\\\\Users\\\\xyche\\\\Documents\\\\Parsons_Grad\\\\Fall2019\\\\ML\\\\EnronTraining\\\\cash-m\""
   ]
  },
  {
   "cell_type": "code",
   "execution_count": 3,
   "metadata": {},
   "outputs": [
    {
     "name": "stdout",
     "output_type": "stream",
     "text": [
      "C:\\Users\\xyche\\Documents\\Parsons_Grad\\Fall2019\\ML\\EnronTraining\\cash-m ['all_documents', 'bankruptcy', 'connect_deletes', 'contacts', 'daishowa', 'data_protection', 'deleted_items', 'ei_execs', 'ethics_ljm_notre_dame', 'garden_state_paper', 'general_research', 'hr_risk_management', 'ibuyit', 'inbox', 'meeting_invites_confirms', 'msa_revisions', 'notes_inbox', 'n_form', 'organizational_announcements', 'outlook_migration', 'personal', 'phone_lists', 'play_group', 'prc', 'project_50', 'resumes_for_recruiting', 'sent', 'sent_items', 'star_wars'] 0\n",
      "C:\\Users\\xyche\\Documents\\Parsons_Grad\\Fall2019\\ML\\EnronTraining\\cash-m\\all_documents [] 726\n",
      "C:\\Users\\xyche\\Documents\\Parsons_Grad\\Fall2019\\ML\\EnronTraining\\cash-m\\bankruptcy [] 3\n",
      "C:\\Users\\xyche\\Documents\\Parsons_Grad\\Fall2019\\ML\\EnronTraining\\cash-m\\connect_deletes [] 2\n",
      "C:\\Users\\xyche\\Documents\\Parsons_Grad\\Fall2019\\ML\\EnronTraining\\cash-m\\contacts [] 6\n",
      "C:\\Users\\xyche\\Documents\\Parsons_Grad\\Fall2019\\ML\\EnronTraining\\cash-m\\daishowa [] 2\n",
      "C:\\Users\\xyche\\Documents\\Parsons_Grad\\Fall2019\\ML\\EnronTraining\\cash-m\\data_protection [] 5\n",
      "C:\\Users\\xyche\\Documents\\Parsons_Grad\\Fall2019\\ML\\EnronTraining\\cash-m\\deleted_items [] 466\n",
      "C:\\Users\\xyche\\Documents\\Parsons_Grad\\Fall2019\\ML\\EnronTraining\\cash-m\\ei_execs [] 8\n",
      "C:\\Users\\xyche\\Documents\\Parsons_Grad\\Fall2019\\ML\\EnronTraining\\cash-m\\ethics_ljm_notre_dame [] 10\n",
      "C:\\Users\\xyche\\Documents\\Parsons_Grad\\Fall2019\\ML\\EnronTraining\\cash-m\\garden_state_paper [] 5\n",
      "C:\\Users\\xyche\\Documents\\Parsons_Grad\\Fall2019\\ML\\EnronTraining\\cash-m\\general_research [] 22\n",
      "C:\\Users\\xyche\\Documents\\Parsons_Grad\\Fall2019\\ML\\EnronTraining\\cash-m\\hr_risk_management [] 5\n",
      "C:\\Users\\xyche\\Documents\\Parsons_Grad\\Fall2019\\ML\\EnronTraining\\cash-m\\ibuyit [] 14\n",
      "C:\\Users\\xyche\\Documents\\Parsons_Grad\\Fall2019\\ML\\EnronTraining\\cash-m\\inbox ['dlr'] 342\n",
      "C:\\Users\\xyche\\Documents\\Parsons_Grad\\Fall2019\\ML\\EnronTraining\\cash-m\\inbox\\dlr [] 42\n",
      "C:\\Users\\xyche\\Documents\\Parsons_Grad\\Fall2019\\ML\\EnronTraining\\cash-m\\meeting_invites_confirms ['labor_resumes'] 23\n",
      "C:\\Users\\xyche\\Documents\\Parsons_Grad\\Fall2019\\ML\\EnronTraining\\cash-m\\meeting_invites_confirms\\labor_resumes [] 2\n",
      "C:\\Users\\xyche\\Documents\\Parsons_Grad\\Fall2019\\ML\\EnronTraining\\cash-m\\msa_revisions [] 1\n",
      "C:\\Users\\xyche\\Documents\\Parsons_Grad\\Fall2019\\ML\\EnronTraining\\cash-m\\notes_inbox [] 57\n",
      "C:\\Users\\xyche\\Documents\\Parsons_Grad\\Fall2019\\ML\\EnronTraining\\cash-m\\n_form [] 14\n",
      "C:\\Users\\xyche\\Documents\\Parsons_Grad\\Fall2019\\ML\\EnronTraining\\cash-m\\organizational_announcements [] 26\n",
      "C:\\Users\\xyche\\Documents\\Parsons_Grad\\Fall2019\\ML\\EnronTraining\\cash-m\\outlook_migration [] 7\n",
      "C:\\Users\\xyche\\Documents\\Parsons_Grad\\Fall2019\\ML\\EnronTraining\\cash-m\\personal [] 22\n",
      "C:\\Users\\xyche\\Documents\\Parsons_Grad\\Fall2019\\ML\\EnronTraining\\cash-m\\phone_lists [] 4\n",
      "C:\\Users\\xyche\\Documents\\Parsons_Grad\\Fall2019\\ML\\EnronTraining\\cash-m\\play_group [] 1\n",
      "C:\\Users\\xyche\\Documents\\Parsons_Grad\\Fall2019\\ML\\EnronTraining\\cash-m\\prc [] 10\n",
      "C:\\Users\\xyche\\Documents\\Parsons_Grad\\Fall2019\\ML\\EnronTraining\\cash-m\\project_50 [] 2\n",
      "C:\\Users\\xyche\\Documents\\Parsons_Grad\\Fall2019\\ML\\EnronTraining\\cash-m\\resumes_for_recruiting [] 13\n",
      "C:\\Users\\xyche\\Documents\\Parsons_Grad\\Fall2019\\ML\\EnronTraining\\cash-m\\sent [] 583\n",
      "C:\\Users\\xyche\\Documents\\Parsons_Grad\\Fall2019\\ML\\EnronTraining\\cash-m\\sent_items [] 545\n",
      "C:\\Users\\xyche\\Documents\\Parsons_Grad\\Fall2019\\ML\\EnronTraining\\cash-m\\star_wars [] 1\n"
     ]
    }
   ],
   "source": [
    "for directory, subdirectory, filenames in  os.walk(Roo2):\n",
    "    print(directory, subdirectory, len(filenames))"
   ]
  },
  {
   "cell_type": "code",
   "execution_count": 4,
   "metadata": {},
   "outputs": [],
   "source": [
    "textdir = \"C:\\\\Users\\\\xyche\\\\Documents\\\\Parsons_Grad\\\\Fall2019\\\\ML\\\\EnronTraining\\\\badeer-r\\\\inbox\""
   ]
  },
  {
   "cell_type": "code",
   "execution_count": 5,
   "metadata": {},
   "outputs": [],
   "source": [
    " from collections import Counter"
   ]
  },
  {
   "cell_type": "code",
   "execution_count": 10,
   "metadata": {},
   "outputs": [],
   "source": []
  },
  {
   "cell_type": "code",
   "execution_count": 11,
   "metadata": {},
   "outputs": [],
   "source": [
    "to_email_list1 = []\n",
    "from_email_list1 = []\n",
    "email_body1 = []"
   ]
  },
  {
   "cell_type": "code",
   "execution_count": 13,
   "metadata": {},
   "outputs": [
    {
     "ename": "NameError",
     "evalue": "name 'email' is not defined",
     "output_type": "error",
     "traceback": [
      "\u001b[1;31m---------------------------------------------------------------------------\u001b[0m",
      "\u001b[1;31mNameError\u001b[0m                                 Traceback (most recent call last)",
      "\u001b[1;32m<ipython-input-13-0b8ebbdc8fd4>\u001b[0m in \u001b[0;36m<module>\u001b[1;34m\u001b[0m\n\u001b[0;32m      1\u001b[0m \u001b[1;32mfor\u001b[0m \u001b[0mdirectory\u001b[0m\u001b[1;33m,\u001b[0m \u001b[0msubdirectory\u001b[0m\u001b[1;33m,\u001b[0m \u001b[0mfilenames\u001b[0m \u001b[1;32min\u001b[0m  \u001b[0mos\u001b[0m\u001b[1;33m.\u001b[0m\u001b[0mwalk\u001b[0m\u001b[1;33m(\u001b[0m\u001b[0mtextdir\u001b[0m\u001b[1;33m)\u001b[0m\u001b[1;33m:\u001b[0m\u001b[1;33m\u001b[0m\u001b[1;33m\u001b[0m\u001b[0m\n\u001b[0;32m      2\u001b[0m     \u001b[1;32mfor\u001b[0m \u001b[0mfilename\u001b[0m \u001b[1;32min\u001b[0m \u001b[0mfilenames\u001b[0m\u001b[1;33m:\u001b[0m\u001b[1;33m\u001b[0m\u001b[1;33m\u001b[0m\u001b[0m\n\u001b[1;32m----> 3\u001b[1;33m         \u001b[0memail_analyse\u001b[0m\u001b[1;33m(\u001b[0m\u001b[0mos\u001b[0m\u001b[1;33m.\u001b[0m\u001b[0mpath\u001b[0m\u001b[1;33m.\u001b[0m\u001b[0mjoin\u001b[0m\u001b[1;33m(\u001b[0m\u001b[0mdirectory\u001b[0m\u001b[1;33m,\u001b[0m \u001b[0mfilename\u001b[0m\u001b[1;33m)\u001b[0m\u001b[1;33m,\u001b[0m \u001b[0mto_email_list1\u001b[0m\u001b[1;33m,\u001b[0m \u001b[0mfrom_email_list1\u001b[0m\u001b[1;33m,\u001b[0m \u001b[0memail_body1\u001b[0m \u001b[1;33m)\u001b[0m\u001b[1;33m\u001b[0m\u001b[1;33m\u001b[0m\u001b[0m\n\u001b[0m",
      "\u001b[1;32m<ipython-input-10-cae74ceb7f39>\u001b[0m in \u001b[0;36memail_analyse\u001b[1;34m(inputfile, to_email_list1, from_email_list1, email_body1)\u001b[0m\n\u001b[0;32m      3\u001b[0m         \u001b[0mdata\u001b[0m \u001b[1;33m=\u001b[0m \u001b[0mf\u001b[0m\u001b[1;33m.\u001b[0m\u001b[0mread\u001b[0m\u001b[1;33m(\u001b[0m\u001b[1;33m)\u001b[0m\u001b[1;33m\u001b[0m\u001b[1;33m\u001b[0m\u001b[0m\n\u001b[0;32m      4\u001b[0m \u001b[1;33m\u001b[0m\u001b[0m\n\u001b[1;32m----> 5\u001b[1;33m     \u001b[1;32mif\u001b[0m \u001b[0memail\u001b[0m\u001b[1;33m[\u001b[0m\u001b[1;34m'to'\u001b[0m\u001b[1;33m]\u001b[0m\u001b[1;33m:\u001b[0m\u001b[1;33m\u001b[0m\u001b[1;33m\u001b[0m\u001b[0m\n\u001b[0m\u001b[0;32m      6\u001b[0m         \u001b[0memail_to\u001b[0m \u001b[1;33m=\u001b[0m \u001b[0memail\u001b[0m\u001b[1;33m[\u001b[0m\u001b[1;34m'to'\u001b[0m\u001b[1;33m]\u001b[0m\u001b[1;33m\u001b[0m\u001b[1;33m\u001b[0m\u001b[0m\n\u001b[0;32m      7\u001b[0m         \u001b[0memail_to\u001b[0m \u001b[1;33m=\u001b[0m \u001b[0memail_to\u001b[0m\u001b[1;33m.\u001b[0m\u001b[0mreplace\u001b[0m\u001b[1;33m(\u001b[0m\u001b[1;34m\"\\n\"\u001b[0m\u001b[1;33m,\u001b[0m \u001b[1;34m\"\"\u001b[0m\u001b[1;33m)\u001b[0m\u001b[1;33m\u001b[0m\u001b[1;33m\u001b[0m\u001b[0m\n",
      "\u001b[1;31mNameError\u001b[0m: name 'email' is not defined"
     ]
    }
   ],
   "source": [
    "for directory, subdirectory, filenames in  os.walk(textdir):\n",
    "    for filename in filenames:\n",
    "        email_analyse(os.path.join(directory, filename), to_email_list1, from_email_list1, email_body1 )"
   ]
  },
  {
   "cell_type": "code",
   "execution_count": null,
   "metadata": {},
   "outputs": [],
   "source": []
  }
 ],
 "metadata": {
  "kernelspec": {
   "display_name": "Python 3",
   "language": "python",
   "name": "python3"
  },
  "language_info": {
   "codemirror_mode": {
    "name": "ipython",
    "version": 3
   },
   "file_extension": ".py",
   "mimetype": "text/x-python",
   "name": "python",
   "nbconvert_exporter": "python",
   "pygments_lexer": "ipython3",
   "version": "3.7.1"
  }
 },
 "nbformat": 4,
 "nbformat_minor": 2
}
